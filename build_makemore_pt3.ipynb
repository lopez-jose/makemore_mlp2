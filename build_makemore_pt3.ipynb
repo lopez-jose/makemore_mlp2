{
 "cells": [
  {
   "cell_type": "code",
   "execution_count": 62,
   "metadata": {},
   "outputs": [],
   "source": [
    "import torch\n",
    "import torch.nn.functional as F\n",
    "import matplotlib.pyplot as plt # for making figures\n",
    "%matplotlib inline"
   ]
  },
  {
   "cell_type": "code",
   "execution_count": 2,
   "metadata": {},
   "outputs": [
    {
     "data": {
      "text/plain": [
       "['emma', 'olivia', 'ava', 'isabella', 'sophia', 'charlotte', 'mia', 'amelia']"
      ]
     },
     "execution_count": 2,
     "metadata": {},
     "output_type": "execute_result"
    }
   ],
   "source": [
    "# read in all the words\n",
    "words = open('names.txt', 'r').read().splitlines()\n",
    "words[:8]"
   ]
  },
  {
   "cell_type": "code",
   "execution_count": 3,
   "metadata": {},
   "outputs": [
    {
     "data": {
      "text/plain": [
       "32033"
      ]
     },
     "execution_count": 3,
     "metadata": {},
     "output_type": "execute_result"
    }
   ],
   "source": [
    "len(words)"
   ]
  },
  {
   "cell_type": "code",
   "execution_count": 4,
   "metadata": {},
   "outputs": [
    {
     "name": "stdout",
     "output_type": "stream",
     "text": [
      "{1: 'a', 2: 'b', 3: 'c', 4: 'd', 5: 'e', 6: 'f', 7: 'g', 8: 'h', 9: 'i', 10: 'j', 11: 'k', 12: 'l', 13: 'm', 14: 'n', 15: 'o', 16: 'p', 17: 'q', 18: 'r', 19: 's', 20: 't', 21: 'u', 22: 'v', 23: 'w', 24: 'x', 25: 'y', 26: 'z', 0: '.'}\n",
      "27\n"
     ]
    }
   ],
   "source": [
    "# build the vocabulary of characters and mappings to/from integers\n",
    "chars = sorted(list(set(''.join(words))))\n",
    "stoi = {s: i+1 for i, s in enumerate(chars)}\n",
    "stoi['.'] = 0\n",
    "itos = {i: s for s, i in stoi.items()}\n",
    "vocab_size = len(itos)\n",
    "print(itos)\n",
    "print(vocab_size)"
   ]
  },
  {
   "cell_type": "code",
   "execution_count": 15,
   "metadata": {},
   "outputs": [
    {
     "name": "stdout",
     "output_type": "stream",
     "text": [
      "torch.Size([182580, 3]) torch.Size([182580])\n",
      "torch.Size([22767, 3]) torch.Size([22767])\n",
      "torch.Size([22799, 3]) torch.Size([22799])\n"
     ]
    }
   ],
   "source": [
    "# build the dataset\n",
    "import random\n",
    "block_size = 3  # context length: how many characters do we take to predict the next one?\n",
    "\n",
    "\n",
    "def build_dataset(words):\n",
    "    X, Y = [], []\n",
    "\n",
    "    for w in words:\n",
    "        context = [0] * block_size\n",
    "        for ch in w + '.':\n",
    "            ix = stoi[ch]\n",
    "            X.append(context)\n",
    "            Y.append(ix)\n",
    "            context = context[1:] + [ix]  # crop and append\n",
    "\n",
    "    X = torch.tensor(X)\n",
    "    Y = torch.tensor(Y)\n",
    "    print(X.shape, Y.shape)\n",
    "    return X, Y\n",
    "\n",
    "\n",
    "random.seed(42)\n",
    "random.shuffle(words)\n",
    "n1 = int(0.8*len(words))\n",
    "n2 = int(0.9*len(words))\n",
    "\n",
    "Xtr,  Ytr = build_dataset(words[:n1])     # 80%\n",
    "Xdev, Ydev = build_dataset(words[n1:n2])   # 10%\n",
    "Xte,  Yte = build_dataset(words[n2:])     # 10%"
   ]
  },
  {
   "cell_type": "code",
   "execution_count": null,
   "metadata": {},
   "outputs": [
    {
     "name": "stdout",
     "output_type": "stream",
     "text": [
      "11897\n"
     ]
    }
   ],
   "source": [
    "# MLP revisited\n",
    "n_embd = 10  # the dimensionality of the character embedding vectors\n",
    "n_hidden = 200  # the number of neurons in the hidden layer of the MLP\n",
    "\n",
    "g = torch.Generator().manual_seed(2147483647)  # for reproducibility\n",
    "C = torch.randn((vocab_size, n_embd),            generator=g)\n",
    "W1 = torch.randn((n_embd * block_size, n_hidden), generator=g) * (5/3) / \\\n",
    "    (n_embd * block_size**0.5)  # 0.2 n_embd = 10 and block size is 3\n",
    "b1 = torch.randn(n_hidden,                        generator=g) * .01\n",
    "W2 = torch.randn((n_hidden, vocab_size),          generator=g) * 0.01\n",
    "b2 = torch.randn(vocab_size,                      generator=g) * 0\n",
    "\n",
    "bngain = torch.ones((1, n_hidden))\n",
    "bnbias = torch.zeros((1, n_hidden))\n",
    "\n",
    "parameters = [C, W1, b1, W2, b2]\n",
    "print(sum(p.nelement() for p in parameters))  # number of parameters in total\n",
    "for p in parameters:\n",
    "    p.requires_grad = True"
   ]
  },
  {
   "cell_type": "code",
   "execution_count": 102,
   "metadata": {},
   "outputs": [
    {
     "data": {
      "text/plain": [
       "torch.Size([32, 200])"
      ]
     },
     "execution_count": 102,
     "metadata": {},
     "output_type": "execute_result"
    }
   ],
   "source": [
    "hpreact.shape"
   ]
  },
  {
   "cell_type": "code",
   "execution_count": 108,
   "metadata": {},
   "outputs": [
    {
     "data": {
      "text/plain": [
       "tensor([[-9.0047e-01, -6.1440e-04, -1.1101e+00,  2.3400e+00,  2.9763e-01,\n",
       "         -1.5884e-01,  1.5965e-01, -2.6204e+00,  1.2253e+00,  9.9385e-01,\n",
       "          3.5851e-01, -8.2009e-01,  2.8643e-01,  4.1431e-01, -1.6773e-02,\n",
       "         -2.3592e-03,  1.2345e+00, -7.8137e-01,  4.3292e-01,  3.5569e+00,\n",
       "          5.8309e-01,  4.4639e-01,  1.3874e-03,  4.4913e-01,  9.9279e-01,\n",
       "          5.1355e-01,  9.6173e-03,  3.8656e-03, -3.0698e-01,  1.0578e+00,\n",
       "          1.6215e-01, -9.1607e-03,  7.2573e-01, -1.0559e-03,  1.7400e-03,\n",
       "         -3.0137e+00,  1.5076e+00, -1.7997e-02, -8.5241e-01,  8.9607e-03,\n",
       "          9.0096e-01, -3.2211e-01, -1.4548e+00, -8.5445e-03,  2.0900e-02,\n",
       "         -7.6055e-03, -2.1003e-02, -1.3167e+00,  1.4109e-02,  3.5738e-03,\n",
       "         -1.4693e-02, -1.5231e-02,  2.4293e+00, -6.1013e-01, -9.4543e-02,\n",
       "         -4.8605e-01,  1.6630e-02,  9.9723e-01,  2.0510e+00, -1.2255e+00,\n",
       "          4.0751e-01,  1.3876e+00,  9.2678e-03,  1.7459e+00,  1.4798e+00,\n",
       "          8.2408e-01,  1.0897e+00,  3.3032e-03, -1.5510e+00,  4.5392e-01,\n",
       "          7.5665e-03,  7.5621e-01,  4.0641e-03, -1.9198e-02, -1.8339e+00,\n",
       "          8.8335e-03,  1.1047e+00, -1.7165e+00,  7.8174e-03, -1.0783e-01,\n",
       "          9.6587e-02,  1.7075e+00,  2.0334e-01, -9.3372e-01, -5.1004e-01,\n",
       "         -2.8662e-02,  5.9446e-03, -2.6719e-01, -7.0325e-01,  2.8384e-01,\n",
       "          2.8468e-02,  6.5414e-01, -1.2226e+00, -8.9643e-01, -1.1025e+00,\n",
       "         -1.4703e-02,  5.5829e-01,  5.8835e-03, -1.2442e-02, -2.3569e+00,\n",
       "         -2.6469e-03,  1.2046e+00, -1.5547e-02,  1.4941e-01,  5.8955e-02,\n",
       "          1.5090e-01, -1.7022e-02, -2.9289e-01,  2.3052e+00, -2.3668e-01,\n",
       "         -2.3749e-01,  3.1923e-01, -9.9633e-03,  2.2129e+00, -2.3631e-03,\n",
       "         -1.1060e+00,  2.2706e-03,  5.5892e-03, -4.7600e-01,  1.0186e+00,\n",
       "         -7.1250e-03, -1.8107e+00,  1.1508e-02,  1.6307e+00, -1.1403e+00,\n",
       "          1.0796e+00, -1.6580e+00, -6.0817e-01,  3.4565e-01, -1.5471e+00,\n",
       "          2.0489e+00, -1.0846e+00, -6.0314e-01,  3.2359e-01,  1.6683e-02,\n",
       "         -6.4338e-01,  2.7054e-03,  8.3044e-01, -5.5201e-04,  1.6906e-02,\n",
       "          6.8318e-03,  3.7056e-01, -2.9093e-01, -2.3088e-01,  1.0816e+00,\n",
       "          9.5091e-01,  8.3715e-01, -5.6381e-01, -2.1281e+00, -1.1825e-02,\n",
       "         -2.1163e+00,  1.4240e+00,  2.4520e-01,  1.2330e+00,  4.9310e-02,\n",
       "         -1.4526e+00,  2.3663e-02, -7.4553e-01, -6.0429e-01,  7.2546e-03,\n",
       "          1.4154e+00, -9.7365e-01, -2.7678e-03, -1.8011e+00, -5.4991e-01,\n",
       "          1.0056e+00,  1.0667e+00,  2.6852e-02, -8.1373e-01, -7.3166e-01,\n",
       "         -6.2908e-03,  2.5244e-03, -9.0639e-01, -2.0146e-01, -2.7943e-02,\n",
       "          9.0040e-02,  1.4429e+00, -7.5939e-01,  2.0706e+00, -3.4816e-03,\n",
       "          1.5443e+00, -5.1351e-02,  1.6037e-01,  3.0112e-01, -3.1883e-01,\n",
       "          2.3870e-02,  1.8107e+00, -9.7630e-03, -1.3294e-01,  1.7901e+00,\n",
       "          1.7584e-02,  1.5040e+00, -7.2833e-01,  8.6698e-04,  8.4408e-01,\n",
       "         -4.5262e-03,  2.0949e-01, -4.0536e-01, -2.0692e-01,  8.5160e-01]],\n",
       "       grad_fn=<MeanBackward1>)"
      ]
     },
     "execution_count": 108,
     "metadata": {},
     "output_type": "execute_result"
    }
   ],
   "source": [
    "hpreact.mean(0, keepdim=True)"
   ]
  },
  {
   "cell_type": "code",
   "execution_count": null,
   "metadata": {},
   "outputs": [],
   "source": [
    "hpreact.mean"
   ]
  },
  {
   "cell_type": "code",
   "execution_count": 110,
   "metadata": {},
   "outputs": [
    {
     "name": "stdout",
     "output_type": "stream",
     "text": [
      "      0/ 200000: 2.4901\n",
      "  10000/ 200000: 2.6460\n",
      "  20000/ 200000: 2.0737\n",
      "  30000/ 200000: 2.1142\n",
      "  40000/ 200000: 1.9422\n",
      "  50000/ 200000: 2.0652\n",
      "  60000/ 200000: 2.2391\n",
      "  70000/ 200000: 2.2984\n",
      "  80000/ 200000: 2.0452\n",
      "  90000/ 200000: 1.9703\n",
      " 100000/ 200000: 2.4033\n",
      " 110000/ 200000: 2.2639\n",
      " 120000/ 200000: 1.5911\n",
      " 130000/ 200000: 1.5765\n",
      " 140000/ 200000: 2.1051\n",
      " 150000/ 200000: 2.1070\n",
      " 160000/ 200000: 2.0364\n",
      " 170000/ 200000: 2.1525\n",
      " 180000/ 200000: 2.1446\n",
      " 190000/ 200000: 1.9931\n"
     ]
    }
   ],
   "source": [
    "# same optimization as last time\n",
    "max_steps = 200000\n",
    "batch_size = 32\n",
    "lossi = []\n",
    "\n",
    "for i in range(max_steps):\n",
    "\n",
    "    # minibatch construct\n",
    "    ix = torch.randint(0, Xtr.shape[0], (batch_size,), generator=g)\n",
    "    Xb, Yb = Xtr[ix], Ytr[ix]  # batch x,y\n",
    "\n",
    "    # forward pass\n",
    "    emb = C[Xb]  # embed the characters into vectors\n",
    "    embcat = emb.view(emb.shape[0], -1)  # concatenate the vectors\n",
    "    hpreact = embcat @ W1 + b1  # hidden layer pre-activation\n",
    "    u = hpreact.mean(0, keepdim=True)  # mini-batch mean\n",
    "    hpreact = (hpreact - u)/hpreact.std(0, keepdim=True)\n",
    "    # -------------------------------------------------------------\n",
    "    # Non-linearity\n",
    "    h = torch.tanh(hpreact)  # hidden layer\n",
    "    logits = h @ W2 + b2  # output layer\n",
    "    loss = F.cross_entropy(logits, Yb)  # loss function\n",
    "\n",
    "    # backward pass\n",
    "    for p in parameters:\n",
    "        p.grad = None\n",
    "    loss.backward()\n",
    "    # update\n",
    "    lr = 0.1 if i < 100000 else 0.01  # step learning rate decay\n",
    "    for p in parameters:\n",
    "        p.data += -lr * p.grad\n",
    "\n",
    "    # track stats\n",
    "    if i % 10000 == 0:  # print every once in a while\n",
    "        print(f'{i:7d}/{max_steps:7d}: {loss.item():.4f}')\n",
    "    lossi.append(loss.log10().item())"
   ]
  },
  {
   "cell_type": "code",
   "execution_count": 111,
   "metadata": {},
   "outputs": [
    {
     "data": {
      "text/plain": [
       "tensor([-1.7727,  0.8293,  1.2401, -0.8536,  1.5674,  0.0452, -1.6381, -1.0467,\n",
       "         0.1278,  0.3880, -1.3042, -0.2424,  2.2164,  1.6293,  2.3182, -2.2970,\n",
       "        -1.3909, -2.6268,  1.5071,  0.9348,  0.4435,  0.2198,  1.2548, -2.3606,\n",
       "        -1.0657,  1.0291,  0.3459], grad_fn=<SelectBackward0>)"
      ]
     },
     "execution_count": 111,
     "metadata": {},
     "output_type": "execute_result"
    }
   ],
   "source": [
    "logits[0]"
   ]
  },
  {
   "cell_type": "code",
   "execution_count": 112,
   "metadata": {},
   "outputs": [
    {
     "data": {
      "image/png": "[encoded data removed]",
      "text/plain": [
       "<Figure size 640x480 with 1 Axes>"
      ]
     },
     "metadata": {},
     "output_type": "display_data"
    }
   ],
   "source": [
    "plt.hist(h.view(-1).tolist(), 50)\n",
    "plt.show()"
   ]
  },
  {
   "cell_type": "code",
   "execution_count": 113,
   "metadata": {},
   "outputs": [
    {
     "data": {
      "image/png": "[encoded data removed]",
      "text/plain": [
       "<Figure size 2000x1000 with 1 Axes>"
      ]
     },
     "metadata": {},
     "output_type": "display_data"
    }
   ],
   "source": [
    "plt.figure(figsize=(20, 10))\n",
    "plt.imshow(h.abs() > 0.99, cmap='gray', interpolation='nearest')\n",
    "plt.show()"
   ]
  },
  {
   "cell_type": "code",
   "execution_count": null,
   "metadata": {},
   "outputs": [],
   "source": []
  },
  {
   "cell_type": "code",
   "execution_count": 114,
   "metadata": {},
   "outputs": [
    {
     "data": {
      "image/png": "[encoded data removed]",
      "text/plain": [
       "<Figure size 640x480 with 1 Axes>"
      ]
     },
     "metadata": {},
     "output_type": "display_data"
    }
   ],
   "source": [
    "plt.plot(lossi)\n",
    "plt.show()"
   ]
  },
  {
   "cell_type": "code",
   "execution_count": 115,
   "metadata": {},
   "outputs": [
    {
     "name": "stdout",
     "output_type": "stream",
     "text": [
      "train 2.4934988021850586\n",
      "val 2.597463846206665\n"
     ]
    }
   ],
   "source": [
    "@torch.no_grad()  # this decorator disables gradient tracking\n",
    "def split_loss(split):\n",
    "    x, y = {\n",
    "        'train': (Xtr, Ytr),\n",
    "        'val': (Xdev, Ydev),\n",
    "        'test': (Xte, Yte),\n",
    "    }[split]\n",
    "    emb = C[x]  # (N, block_size, n_embd)\n",
    "    embcat = emb.view(emb.shape[0], -1)  # concat into (N, block_size * n_embd)\n",
    "    hpreact = embcat @ W1  # + b1\n",
    "    h = torch.tanh(hpreact)  # (N, n_hidden)\n",
    "    logits = h @ W2 + b2  # (N, vocab_size)\n",
    "    loss = F.cross_entropy(logits, y)\n",
    "    print(split, loss.item())\n",
    "\n",
    "\n",
    "split_loss('train')\n",
    "split_loss('val')"
   ]
  },
  {
   "cell_type": "code",
   "execution_count": 116,
   "metadata": {},
   "outputs": [
    {
     "name": "stdout",
     "output_type": "stream",
     "text": [
      "tensor(0.0100) tensor(0.9933)\n",
      "tensor(-0.0005) tensor(0.9681)\n"
     ]
    },
    {
     "data": {
      "image/png": "[encoded data removed]",
      "text/plain": [
       "<Figure size 2000x500 with 2 Axes>"
      ]
     },
     "metadata": {},
     "output_type": "display_data"
    }
   ],
   "source": [
    "x = torch.randn(1000, 10)\n",
    "w = torch.randn(10, 200) / 10**0.5\n",
    "\n",
    "y = x @ w\n",
    "print(x.mean(), x.std())\n",
    "print(y.mean(), y.std())\n",
    "\n",
    "plt.figure(figsize=(20, 5))\n",
    "plt.subplot(121)\n",
    "plt.hist(x.view(-1).tolist(), 50, density=True)\n",
    "plt.subplot(122)\n",
    "plt.hist(y.view(-1).tolist(), 50, density=True)\n",
    "\n",
    "plt.show()"
   ]
  },
  {
   "cell_type": "code",
   "execution_count": 117,
   "metadata": {},
   "outputs": [
    {
     "data": {
      "text/plain": [
       "tensor(3.2958)"
      ]
     },
     "execution_count": 117,
     "metadata": {},
     "output_type": "execute_result"
    }
   ],
   "source": [
    "-torch.tensor(1/27).log()"
   ]
  },
  {
   "cell_type": "code",
   "execution_count": null,
   "metadata": {},
   "outputs": [],
   "source": []
  }
 ],
 "metadata": {
  "kernelspec": {
   "display_name": "myproject_env",
   "language": "python",
   "name": "myproject_env"
  },
  "language_info": {
   "codemirror_mode": {
    "name": "ipython",
    "version": 3
   },
   "file_extension": ".py",
   "mimetype": "text/x-python",
   "name": "python",
   "nbconvert_exporter": "python",
   "pygments_lexer": "ipython3",
   "version": "3.10.16"
  }
 },
 "nbformat": 4,
 "nbformat_minor": 2
}
