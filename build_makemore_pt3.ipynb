{
 "cells": [
  {
   "cell_type": "code",
   "execution_count": 62,
   "metadata": {},
   "outputs": [],
   "source": [
    "import torch\n",
    "import torch.nn.functional as F\n",
    "import matplotlib.pyplot as plt # for making figures\n",
    "%matplotlib inline"
   ]
  },
  {
   "cell_type": "code",
   "execution_count": 2,
   "metadata": {},
   "outputs": [
    {
     "data": {
      "text/plain": [
       "['emma', 'olivia', 'ava', 'isabella', 'sophia', 'charlotte', 'mia', 'amelia']"
      ]
     },
     "execution_count": 2,
     "metadata": {},
     "output_type": "execute_result"
    }
   ],
   "source": [
    "# read in all the words\n",
    "words = open('names.txt', 'r').read().splitlines()\n",
    "words[:8]"
   ]
  },
  {
   "cell_type": "code",
   "execution_count": 3,
   "metadata": {},
   "outputs": [
    {
     "data": {
      "text/plain": [
       "32033"
      ]
     },
     "execution_count": 3,
     "metadata": {},
     "output_type": "execute_result"
    }
   ],
   "source": [
    "len(words)"
   ]
  },
  {
   "cell_type": "code",
   "execution_count": 4,
   "metadata": {},
   "outputs": [
    {
     "name": "stdout",
     "output_type": "stream",
     "text": [
      "{1: 'a', 2: 'b', 3: 'c', 4: 'd', 5: 'e', 6: 'f', 7: 'g', 8: 'h', 9: 'i', 10: 'j', 11: 'k', 12: 'l', 13: 'm', 14: 'n', 15: 'o', 16: 'p', 17: 'q', 18: 'r', 19: 's', 20: 't', 21: 'u', 22: 'v', 23: 'w', 24: 'x', 25: 'y', 26: 'z', 0: '.'}\n",
      "27\n"
     ]
    }
   ],
   "source": [
    "# build the vocabulary of characters and mappings to/from integers\n",
    "chars = sorted(list(set(''.join(words))))\n",
    "stoi = {s: i+1 for i, s in enumerate(chars)}\n",
    "stoi['.'] = 0\n",
    "itos = {i: s for s, i in stoi.items()}\n",
    "vocab_size = len(itos)\n",
    "print(itos)\n",
    "print(vocab_size)"
   ]
  },
  {
   "cell_type": "code",
   "execution_count": 15,
   "metadata": {},
   "outputs": [
    {
     "name": "stdout",
     "output_type": "stream",
     "text": [
      "torch.Size([182580, 3]) torch.Size([182580])\n",
      "torch.Size([22767, 3]) torch.Size([22767])\n",
      "torch.Size([22799, 3]) torch.Size([22799])\n"
     ]
    }
   ],
   "source": [
    "# build the dataset\n",
    "import random\n",
    "block_size = 3  # context length: how many characters do we take to predict the next one?\n",
    "\n",
    "\n",
    "def build_dataset(words):\n",
    "    X, Y = [], []\n",
    "\n",
    "    for w in words:\n",
    "        context = [0] * block_size\n",
    "        for ch in w + '.':\n",
    "            ix = stoi[ch]\n",
    "            X.append(context)\n",
    "            Y.append(ix)\n",
    "            context = context[1:] + [ix]  # crop and append\n",
    "\n",
    "    X = torch.tensor(X)\n",
    "    Y = torch.tensor(Y)\n",
    "    print(X.shape, Y.shape)\n",
    "    return X, Y\n",
    "\n",
    "\n",
    "random.seed(42)\n",
    "random.shuffle(words)\n",
    "n1 = int(0.8*len(words))\n",
    "n2 = int(0.9*len(words))\n",
    "\n",
    "Xtr,  Ytr = build_dataset(words[:n1])     # 80%\n",
    "Xdev, Ydev = build_dataset(words[n1:n2])   # 10%\n",
    "Xte,  Yte = build_dataset(words[n2:])     # 10%"
   ]
  },
  {
   "cell_type": "code",
   "execution_count": null,
   "metadata": {},
   "outputs": [
    {
     "name": "stdout",
     "output_type": "stream",
     "text": [
      "12297\n"
     ]
    }
   ],
   "source": [
    "# MLP revisited\n",
    "n_embd = 10  # the dimensionality of the character embedding vectors\n",
    "n_hidden = 200  # the number of neurons in the hidden layer of the MLP\n",
    "\n",
    "g = torch.Generator().manual_seed(2147483647)  # for reproducibility\n",
    "C = torch.randn((vocab_size, n_embd),            generator=g)\n",
    "W1 = torch.randn((n_embd * block_size, n_hidden), generator=g) * (5/3) / \\\n",
    "    (n_embd * block_size**0.5)  # 0.2 n_embd = 10 and block size is 3\n",
    "b1 = torch.randn(n_hidden,                        generator=g) * .01\n",
    "W2 = torch.randn((n_hidden, vocab_size),          generator=g) * 0.01\n",
    "b2 = torch.randn(vocab_size,                      generator=g) * 0\n",
    "\n",
    "bngain = torch.ones((1, n_hidden))\n",
    "bnbias = torch.zeros((1, n_hidden))\n",
    "bnmean_running = torch.zeros((1, n_hidden))\n",
    "bnstd_running = torch.ones((1, n_hidden))\n",
    "\n",
    "\n",
    "parameters = [C, W1, b1, W2, b2, bngain, bnbias]\n",
    "print(sum(p.nelement() for p in parameters))  # number of parameters in total\n",
    "for p in parameters:\n",
    "    p.requires_grad = True"
   ]
  },
  {
   "cell_type": "code",
   "execution_count": 119,
   "metadata": {},
   "outputs": [
    {
     "data": {
      "text/plain": [
       "torch.Size([32, 200])"
      ]
     },
     "execution_count": 119,
     "metadata": {},
     "output_type": "execute_result"
    }
   ],
   "source": [
    "hpreact.shape"
   ]
  },
  {
   "cell_type": "code",
   "execution_count": 120,
   "metadata": {},
   "outputs": [
    {
     "data": {
      "text/plain": [
       "tensor([[-1.4901e-08, -3.7253e-09, -2.2352e-08, -2.6077e-08,  0.0000e+00,\n",
       "         -2.9802e-08, -9.3132e-10,  0.0000e+00, -2.2352e-08,  1.4901e-08,\n",
       "          1.1176e-08,  4.4703e-08,  0.0000e+00,  0.0000e+00,  0.0000e+00,\n",
       "          4.4703e-08,  1.1176e-08,  0.0000e+00, -1.4901e-08,  6.7055e-08,\n",
       "          2.9802e-08,  7.4506e-09, -1.8626e-08, -2.2352e-08, -7.4506e-09,\n",
       "          7.4506e-09,  3.7253e-09,  1.4435e-08, -2.2352e-08, -1.8626e-08,\n",
       "         -2.2352e-08,  0.0000e+00,  7.4506e-09,  0.0000e+00, -1.8626e-08,\n",
       "          3.7253e-09,  4.0047e-08,  1.1176e-08,  0.0000e+00, -7.4506e-09,\n",
       "         -2.9802e-08, -1.1921e-07,  1.4901e-08,  7.4506e-09,  0.0000e+00,\n",
       "         -7.4506e-09,  0.0000e+00,  4.4703e-08, -7.4506e-09,  0.0000e+00,\n",
       "         -6.7055e-08, -2.9802e-08,  1.4901e-08, -1.4901e-08, -3.7253e-08,\n",
       "          0.0000e+00,  3.3528e-08,  7.4506e-09, -4.4703e-08,  5.0291e-08,\n",
       "         -3.3528e-08,  0.0000e+00, -5.5879e-08, -2.2352e-08,  0.0000e+00,\n",
       "          1.4901e-08,  1.8626e-09, -1.1176e-08,  1.0710e-08, -7.4506e-09,\n",
       "          3.1665e-08,  3.7253e-09,  2.6077e-08, -3.7253e-09, -1.0012e-08,\n",
       "          7.4506e-09,  1.0431e-07, -1.4901e-08,  1.4901e-08,  4.4703e-08,\n",
       "          7.4506e-09, -1.4901e-08,  2.2352e-08,  4.4703e-08, -1.4901e-08,\n",
       "          2.9802e-08, -5.9605e-08,  4.4703e-08, -3.7253e-08,  1.4901e-08,\n",
       "          2.9802e-08,  5.5879e-09,  0.0000e+00,  3.7253e-09, -2.9802e-08,\n",
       "          1.4901e-08, -6.5193e-09,  2.2352e-08, -2.9802e-08, -4.7265e-08,\n",
       "         -7.4506e-09, -2.2352e-08, -3.7253e-09,  0.0000e+00,  0.0000e+00,\n",
       "          1.8626e-08,  6.5193e-09, -9.3132e-10,  1.1176e-08, -1.1176e-08,\n",
       "          2.9802e-08,  1.3039e-08,  2.9802e-08, -8.1956e-08, -7.4506e-09,\n",
       "          2.9802e-08,  1.8626e-08, -7.4506e-09,  0.0000e+00,  1.4901e-08,\n",
       "         -9.3132e-09,  1.8626e-09,  1.1176e-07,  5.9605e-08,  3.7253e-08,\n",
       "         -3.7253e-08, -1.4901e-08,  8.9407e-08, -1.2107e-08,  5.9605e-08,\n",
       "         -2.2352e-08,  1.4901e-08, -1.4901e-08,  2.2352e-08,  2.6077e-08,\n",
       "         -7.4506e-09,  2.2352e-08,  2.6077e-08,  7.4506e-09,  0.0000e+00,\n",
       "         -1.4901e-08,  0.0000e+00, -2.2352e-08,  0.0000e+00, -7.4506e-09,\n",
       "          1.1176e-08,  9.3132e-09, -1.8626e-08,  1.4901e-08,  3.7253e-09,\n",
       "          0.0000e+00,  1.4901e-08,  0.0000e+00,  2.6077e-08, -6.2399e-08,\n",
       "         -4.4703e-08,  0.0000e+00,  2.2352e-08,  2.7940e-08,  2.2352e-08,\n",
       "          3.3528e-08, -7.4506e-09,  2.0489e-08,  5.9605e-08, -2.9802e-08,\n",
       "         -7.4506e-09,  0.0000e+00,  5.2154e-08,  2.6077e-08, -3.7253e-08,\n",
       "          9.3132e-09,  7.4506e-09,  3.7253e-08,  2.9802e-08,  7.4506e-09,\n",
       "          0.0000e+00,  2.2352e-08, -3.5390e-08,  1.8626e-08,  0.0000e+00,\n",
       "         -2.2352e-08,  1.4901e-08, -1.8626e-08,  7.4506e-09,  2.2352e-08,\n",
       "          0.0000e+00,  3.7253e-08,  4.4703e-08,  3.7253e-08,  1.0058e-07,\n",
       "         -7.4506e-09,  5.9605e-08, -5.5879e-09,  0.0000e+00,  7.4506e-09,\n",
       "         -8.3819e-09,  4.4703e-08, -9.3132e-09, -7.4506e-09,  1.4901e-08]],\n",
       "       grad_fn=<MeanBackward1>)"
      ]
     },
     "execution_count": 120,
     "metadata": {},
     "output_type": "execute_result"
    }
   ],
   "source": [
    "hpreact.mean(0, keepdim=True)"
   ]
  },
  {
   "cell_type": "code",
   "execution_count": 121,
   "metadata": {},
   "outputs": [
    {
     "data": {
      "text/plain": [
       "<function Tensor.mean>"
      ]
     },
     "execution_count": 121,
     "metadata": {},
     "output_type": "execute_result"
    }
   ],
   "source": [
    "hpreact.mean"
   ]
  },
  {
   "cell_type": "code",
   "execution_count": 134,
   "metadata": {},
   "outputs": [
    {
     "name": "stdout",
     "output_type": "stream",
     "text": [
      "      0/ 200000: 2.1079\n",
      "  10000/ 200000: 2.0244\n",
      "  20000/ 200000: 1.8644\n",
      "  30000/ 200000: 2.1411\n",
      "  40000/ 200000: 2.3181\n",
      "  50000/ 200000: 1.9069\n",
      "  60000/ 200000: 1.8054\n",
      "  70000/ 200000: 1.8995\n",
      "  80000/ 200000: 1.9772\n",
      "  90000/ 200000: 2.0247\n",
      " 100000/ 200000: 1.5039\n",
      " 110000/ 200000: 1.9769\n",
      " 120000/ 200000: 2.0083\n",
      " 130000/ 200000: 1.7403\n",
      " 140000/ 200000: 2.3908\n",
      " 150000/ 200000: 2.1313\n",
      " 160000/ 200000: 2.1447\n",
      " 170000/ 200000: 1.8136\n",
      " 180000/ 200000: 2.1710\n",
      " 190000/ 200000: 2.3064\n"
     ]
    }
   ],
   "source": [
    "# same optimization as last time\n",
    "max_steps = 200000\n",
    "batch_size = 32\n",
    "lossi = []\n",
    "\n",
    "for i in range(max_steps):\n",
    "\n",
    "    # minibatch construct\n",
    "    ix = torch.randint(0, Xtr.shape[0], (batch_size,), generator=g)\n",
    "    Xb, Yb = Xtr[ix], Ytr[ix]  # batch x,y\n",
    "\n",
    "    # forward pass\n",
    "    emb = C[Xb]  # embed the characters into vectors\n",
    "    embcat = emb.view(emb.shape[0], -1)  # concatenate the vectors\n",
    "    hpreact = embcat @ W1 + b1  # hidden layer pre-activation\n",
    "    bnmeani = hpreact.mean(0, keepdim=True)\n",
    "    bnstdi = hpreact.std(0, keepdim=True)\n",
    "\n",
    "    hpreact = bngain * (hpreact - bnmeani) / bnstdi + bnbias\n",
    "\n",
    "    with torch.no_grad():\n",
    "        bnmean_running = 0.999 * bnmean_running + 0.001 * bnmeani\n",
    "        bnstd_running = 0.999 * bnstd_running + 0.001 * bnstdi\n",
    "    # -------------------------------------------------------------\n",
    "    # Non-linearity\n",
    "    h = torch.tanh(hpreact)  # hidden layer\n",
    "    logits = h @ W2 + b2  # output layer\n",
    "    loss = F.cross_entropy(logits, Yb)  # loss function\n",
    "\n",
    "    # backward pass\n",
    "    for p in parameters:\n",
    "        p.grad = None\n",
    "    loss.backward()\n",
    "    # update\n",
    "    lr = 0.1 if i < 100000 else 0.01  # step learning rate decay\n",
    "    for p in parameters:\n",
    "        p.data += -lr * p.grad\n",
    "\n",
    "    # track stats\n",
    "    if i % 10000 == 0:  # print every once in a while\n",
    "        print(f'{i:7d}/{max_steps:7d}: {loss.item():.4f}')\n",
    "    lossi.append(loss.log10().item())"
   ]
  },
  {
   "cell_type": "code",
   "execution_count": 123,
   "metadata": {},
   "outputs": [
    {
     "data": {
      "text/plain": [
       "tensor([-4.3283,  1.7723,  0.7964,  0.7222,  0.9429,  0.9525, -0.0796, -0.1515,\n",
       "         0.2179, -0.4916,  1.2971,  1.5049,  0.8159,  1.4928,  0.5050, -0.6588,\n",
       "         0.1455, -1.9739,  0.9172,  1.0858,  1.1703, -2.2315, -1.1007, -0.6824,\n",
       "        -2.3011, -0.4781,  0.2616], grad_fn=<SelectBackward0>)"
      ]
     },
     "execution_count": 123,
     "metadata": {},
     "output_type": "execute_result"
    }
   ],
   "source": [
    "logits[0]"
   ]
  },
  {
   "cell_type": "code",
   "execution_count": 124,
   "metadata": {},
   "outputs": [
    {
     "data": {
      "image/png": "[encoded data removed]",
      "text/plain": [
       "<Figure size 640x480 with 1 Axes>"
      ]
     },
     "metadata": {},
     "output_type": "display_data"
    }
   ],
   "source": [
    "plt.hist(h.view(-1).tolist(), 50)\n",
    "plt.show()"
   ]
  },
  {
   "cell_type": "code",
   "execution_count": 125,
   "metadata": {},
   "outputs": [
    {
     "data": {
      "image/png": "[encoded data removed]",
      "text/plain": [
       "<Figure size 2000x1000 with 1 Axes>"
      ]
     },
     "metadata": {},
     "output_type": "display_data"
    }
   ],
   "source": [
    "plt.figure(figsize=(20, 10))\n",
    "plt.imshow(h.abs() > 0.99, cmap='gray', interpolation='nearest')\n",
    "plt.show()"
   ]
  },
  {
   "cell_type": "code",
   "execution_count": null,
   "metadata": {},
   "outputs": [],
   "source": []
  },
  {
   "cell_type": "code",
   "execution_count": 126,
   "metadata": {},
   "outputs": [
    {
     "data": {
      "image/png": "[encoded data removed]",
      "text/plain": [
       "<Figure size 640x480 with 1 Axes>"
      ]
     },
     "metadata": {},
     "output_type": "display_data"
    }
   ],
   "source": [
    "plt.plot(lossi)\n",
    "plt.show()"
   ]
  },
  {
   "cell_type": "code",
   "execution_count": 135,
   "metadata": {},
   "outputs": [],
   "source": [
    "# calibrate the batch norm at the end of training\n",
    "\n",
    "with torch.no_grad():\n",
    "    # pass the training set through\n",
    "    emb = C[Xtr]\n",
    "    embcat = emb.view(emb.shape[0], -1)\n",
    "    hpreact = embcat @ W1 + b1\n",
    "    # measure the mean and std dev over the entire training set one single time\n",
    "    bnmean = hpreact.mean(0, keepdim=True)\n",
    "    bnstd = hpreact.std(0, keepdim=True)"
   ]
  },
  {
   "cell_type": "code",
   "execution_count": 138,
   "metadata": {},
   "outputs": [
    {
     "data": {
      "text/plain": [
       "tensor([[2.8329, 2.4941, 2.3944, 2.7456, 2.1586, 2.6829, 2.8849, 3.0637, 2.6007,\n",
       "         2.5813, 3.0776, 2.9179, 2.4139, 2.4207, 2.1237, 3.0636, 2.4843, 2.2479,\n",
       "         2.5795, 2.7042, 2.5401, 2.6413, 2.1804, 2.5711, 2.3231, 2.5160, 2.6658,\n",
       "         2.8244, 3.0527, 2.6187, 2.4605, 2.5883, 2.8853, 2.4456, 2.4342, 2.9919,\n",
       "         2.5714, 2.6406, 2.6860, 2.3819, 2.1357, 2.4973, 3.0202, 2.2531, 2.5021,\n",
       "         3.1003, 2.6189, 2.8520, 2.5325, 2.7562, 2.4057, 2.5071, 2.8905, 2.4640,\n",
       "         2.4795, 2.7126, 2.4361, 2.2955, 2.6151, 2.4327, 2.6966, 2.4671, 2.8308,\n",
       "         2.8654, 2.3431, 2.4881, 2.3979, 2.8657, 2.6423, 2.8135, 2.6831, 2.8481,\n",
       "         2.1446, 2.5015, 2.4406, 2.3817, 2.6146, 2.6829, 2.6431, 2.7517, 2.3905,\n",
       "         2.8926, 2.5526, 2.2275, 2.6986, 2.7007, 2.4844, 2.3967, 2.9623, 3.3539,\n",
       "         2.4403, 2.3273, 2.5908, 2.5751, 2.3300, 2.6508, 2.3267, 2.4625, 2.4342,\n",
       "         2.4201, 2.3135, 2.7243, 2.5102, 2.7964, 2.1702, 2.5003, 2.3421, 2.3138,\n",
       "         2.3878, 2.4278, 2.5305, 2.6606, 2.7489, 2.6336, 3.4223, 2.5886, 2.2763,\n",
       "         2.3626, 2.3217, 2.6045, 2.7114, 2.5949, 2.4315, 2.9263, 2.6666, 2.6493,\n",
       "         2.6406, 2.5153, 2.6086, 2.6007, 2.2859, 2.6754, 2.4727, 2.4095, 2.8531,\n",
       "         2.6825, 2.4317, 2.6381, 2.4529, 2.6206, 2.9414, 2.4938, 2.6013, 2.5050,\n",
       "         2.8004, 2.5659, 2.5139, 2.4919, 2.6858, 2.6416, 2.8631, 2.5458, 2.0942,\n",
       "         2.1964, 2.8394, 2.3593, 2.4329, 2.5133, 2.1715, 2.4297, 2.5405, 2.4884,\n",
       "         2.6241, 2.7984, 2.5481, 2.6412, 2.6235, 1.9980, 2.8158, 2.1715, 2.3220,\n",
       "         2.7098, 2.7677, 2.7993, 2.6151, 2.3032, 2.5457, 2.3009, 2.6856, 2.2436,\n",
       "         2.7886, 2.3505, 2.6064, 2.5151, 2.7413, 2.9022, 2.8888, 2.4402, 2.3409,\n",
       "         2.8584, 2.6411, 2.9327, 2.3612, 2.3303, 3.1266, 2.7460, 2.4936, 2.4230,\n",
       "         2.8345, 2.1912]])"
      ]
     },
     "execution_count": 138,
     "metadata": {},
     "output_type": "execute_result"
    }
   ],
   "source": [
    "bnstd"
   ]
  },
  {
   "cell_type": "code",
   "execution_count": 139,
   "metadata": {},
   "outputs": [
    {
     "data": {
      "text/plain": [
       "tensor([[2.7962, 2.4582, 2.3425, 2.7182, 2.1375, 2.6491, 2.8744, 3.0440, 2.5596,\n",
       "         2.5685, 3.0646, 2.8887, 2.3888, 2.3936, 2.0993, 3.0320, 2.4742, 2.2314,\n",
       "         2.5536, 2.6785, 2.5148, 2.6003, 2.1763, 2.5364, 2.3026, 2.5028, 2.6274,\n",
       "         2.7869, 3.0225, 2.5885, 2.4304, 2.5521, 2.8609, 2.4388, 2.3947, 2.9777,\n",
       "         2.5432, 2.6124, 2.6822, 2.3581, 2.0913, 2.4758, 2.9899, 2.2298, 2.4723,\n",
       "         3.0724, 2.5908, 2.8106, 2.5167, 2.7384, 2.3605, 2.4815, 2.8554, 2.4452,\n",
       "         2.4621, 2.6711, 2.4090, 2.2631, 2.5883, 2.4089, 2.6626, 2.4477, 2.8091,\n",
       "         2.8332, 2.3074, 2.4715, 2.3738, 2.8235, 2.6155, 2.7770, 2.6540, 2.8191,\n",
       "         2.1310, 2.4534, 2.4053, 2.3442, 2.5972, 2.6648, 2.6261, 2.7364, 2.3584,\n",
       "         2.8311, 2.5342, 2.1987, 2.6540, 2.6689, 2.4420, 2.3770, 2.9450, 3.3341,\n",
       "         2.4104, 2.3182, 2.5689, 2.5499, 2.3159, 2.6246, 2.2999, 2.4435, 2.3957,\n",
       "         2.3925, 2.2870, 2.6760, 2.4865, 2.7683, 2.1384, 2.4717, 2.3103, 2.2633,\n",
       "         2.3605, 2.4072, 2.4989, 2.6346, 2.7392, 2.5958, 3.4167, 2.5735, 2.2372,\n",
       "         2.3269, 2.3070, 2.5700, 2.6925, 2.5619, 2.4077, 2.8962, 2.6269, 2.6174,\n",
       "         2.6132, 2.4910, 2.5860, 2.5778, 2.2517, 2.6294, 2.4426, 2.4031, 2.8201,\n",
       "         2.6502, 2.4063, 2.6252, 2.4238, 2.5943, 2.8978, 2.4694, 2.5781, 2.4762,\n",
       "         2.7597, 2.5527, 2.4883, 2.4682, 2.6416, 2.6256, 2.8445, 2.5014, 2.0661,\n",
       "         2.1648, 2.8155, 2.3168, 2.4028, 2.4872, 2.1381, 2.4018, 2.5149, 2.4779,\n",
       "         2.5943, 2.7663, 2.5133, 2.6082, 2.5927, 1.9680, 2.8007, 2.1495, 2.3040,\n",
       "         2.6938, 2.7372, 2.7872, 2.5864, 2.2803, 2.5221, 2.2829, 2.6637, 2.2014,\n",
       "         2.7495, 2.3124, 2.5896, 2.4872, 2.7265, 2.8785, 2.8549, 2.4126, 2.3160,\n",
       "         2.8321, 2.6052, 2.9117, 2.3477, 2.2991, 3.1142, 2.7079, 2.4728, 2.4089,\n",
       "         2.8041, 2.1621]])"
      ]
     },
     "execution_count": 139,
     "metadata": {},
     "output_type": "execute_result"
    }
   ],
   "source": [
    "bnstd_running"
   ]
  },
  {
   "cell_type": "code",
   "execution_count": null,
   "metadata": {},
   "outputs": [],
   "source": []
  },
  {
   "cell_type": "code",
   "execution_count": null,
   "metadata": {},
   "outputs": [
    {
     "name": "stdout",
     "output_type": "stream",
     "text": [
      "train 2.0589189529418945\n",
      "val 2.1037869453430176\n"
     ]
    }
   ],
   "source": [
    "@torch.no_grad()  # this decorator disables gradient tracking\n",
    "def split_loss(split):\n",
    "    x, y = {\n",
    "        'train': (Xtr, Ytr),\n",
    "        'val': (Xdev, Ydev),\n",
    "        'test': (Xte, Yte),\n",
    "    }[split]\n",
    "    emb = C[x]  # (N, block_size, n_embd)\n",
    "    embcat = emb.view(emb.shape[0], -1)  # concat into (N, block_size * n_embd)\n",
    "    hpreact = embcat @ W1  # + b1\n",
    "    u = hpreact.mean(0, keepdim=True)  # mini-batch mean\n",
    "    # hpreact = bngain * (hpreact - u)/hpreact.std(0, keepdim=True) + bnbias\n",
    "    hpreact = bngain * (hpreact-bnmean) / bnstd + bnbias\n",
    "    h = torch.tanh(hpreact)  # (N, n_hidden)\n",
    "    logits = h @ W2 + b2  # (N, vocab_size)\n",
    "    loss = F.cross_entropy(logits, y)\n",
    "    print(split, loss.item())\n",
    "\n",
    "\n",
    "split_loss('train')\n",
    "split_loss('val')"
   ]
  },
  {
   "cell_type": "code",
   "execution_count": 128,
   "metadata": {},
   "outputs": [
    {
     "name": "stdout",
     "output_type": "stream",
     "text": [
      "tensor(-0.0080) tensor(1.0008)\n",
      "tensor(0.0002) tensor(1.0100)\n"
     ]
    },
    {
     "data": {
      "image/png": "[encoded data removed]",
      "text/plain": [
       "<Figure size 2000x500 with 2 Axes>"
      ]
     },
     "metadata": {},
     "output_type": "display_data"
    }
   ],
   "source": [
    "x = torch.randn(1000, 10)\n",
    "w = torch.randn(10, 200) / 10**0.5\n",
    "\n",
    "y = x @ w\n",
    "print(x.mean(), x.std())\n",
    "print(y.mean(), y.std())\n",
    "\n",
    "plt.figure(figsize=(20, 5))\n",
    "plt.subplot(121)\n",
    "plt.hist(x.view(-1).tolist(), 50, density=True)\n",
    "plt.subplot(122)\n",
    "plt.hist(y.view(-1).tolist(), 50, density=True)\n",
    "\n",
    "plt.show()"
   ]
  },
  {
   "cell_type": "code",
   "execution_count": 117,
   "metadata": {},
   "outputs": [
    {
     "data": {
      "text/plain": [
       "tensor(3.2958)"
      ]
     },
     "execution_count": 117,
     "metadata": {},
     "output_type": "execute_result"
    }
   ],
   "source": [
    "-torch.tensor(1/27).log()"
   ]
  },
  {
   "cell_type": "code",
   "execution_count": null,
   "metadata": {},
   "outputs": [],
   "source": []
  }
 ],
 "metadata": {
  "kernelspec": {
   "display_name": "myproject_env",
   "language": "python",
   "name": "myproject_env"
  },
  "language_info": {
   "codemirror_mode": {
    "name": "ipython",
    "version": 3
   },
   "file_extension": ".py",
   "mimetype": "text/x-python",
   "name": "python",
   "nbconvert_exporter": "python",
   "pygments_lexer": "ipython3",
   "version": "3.10.16"
  }
 },
 "nbformat": 4,
 "nbformat_minor": 2
}
